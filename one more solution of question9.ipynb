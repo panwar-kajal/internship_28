{
 "cells": [
  {
   "cell_type": "code",
   "execution_count": 68,
   "id": "7b591814",
   "metadata": {},
   "outputs": [],
   "source": [
    "#9) Write a python program to scrape mentioned details from dineout.co.in :\n",
    "#i) Restaurant name\n",
    "#ii) Cuisine\n",
    "#iii) Location \n",
    "#iv) Ratings\n",
    "#v) Image URL"
   ]
  },
  {
   "cell_type": "code",
   "execution_count": 69,
   "id": "903dd458",
   "metadata": {},
   "outputs": [],
   "source": [
    "import requests\n",
    "from bs4 import BeautifulSoup\n",
    "import pandas as pd\n"
   ]
  },
  {
   "cell_type": "code",
   "execution_count": 70,
   "id": "723467e2",
   "metadata": {},
   "outputs": [
    {
     "name": "stdout",
     "output_type": "stream",
     "text": [
      "getting page, 1\n",
      "getting page, 2\n",
      "Getting details for 72417\n",
      "Getting details for 38434\n",
      "Getting details for 28431\n",
      "Getting details for 48280\n",
      "Getting details for 32327\n",
      "Getting details for 84482\n",
      "Getting details for 52948\n",
      "Getting details for 106356\n",
      "Getting details for 25155\n",
      "Getting details for 19546\n",
      "Getting details for 54389\n",
      "Getting details for 56531\n",
      "Getting details for 80240\n",
      "Getting details for 34276\n",
      "Getting details for 63138\n",
      "Getting details for 104730\n",
      "Getting details for 37802\n",
      "Getting details for 37800\n",
      "Getting details for 28650\n",
      "Getting details for 84484\n"
     ]
    }
   ],
   "source": [
    "rest_list = []\n",
    "for page in range(1,3):\n",
    "    print(f'getting page, {page}')\n",
    "\n",
    "    s = requests.Session()\n",
    "\n",
    "    url = f\"https://www.dineout.co.in/delhi-restaurants?search_str=biryani&p={page}\"  # URL of the website\n",
    "    header = {'User-Agent':'Mozilla/5.0 (X11; CrOS x86_64 8172.45.0) AppleWebKit/537.36 (KHTML, like Gecko) Chrome/51.0.2704.64 Safari/537.36'} # Temporary user agent\n",
    "    r = s.get(url, headers=header)\n",
    "    soup = BeautifulSoup(r.content, 'html.parser')\n",
    "\n",
    "    divs = soup.find_all('div', class_ = 'restnt-card restaurant')\n",
    "    \n",
    "for item in divs:\n",
    "        code = item.find('a')['href'].split('-')[-1] # restaurant code\n",
    "        print(f'Getting details for {code}')\n",
    "        data = s.get(f'https://www.dineout.co.in/get_rdp_data_main/delhi/{code}/restaurant_detail_main').json()\n",
    "\n",
    "        info = data['header']\n",
    "        info.pop('share') #clean up csv\n",
    "        info.pop('options')\n",
    "        rest_list.append(info)\n"
   ]
  },
  {
   "cell_type": "code",
   "execution_count": 75,
   "id": "0940eb07",
   "metadata": {},
   "outputs": [],
   "source": [
    "df = pd.DataFrame(rest_list)"
   ]
  },
  {
   "cell_type": "code",
   "execution_count": 76,
   "id": "cb719e4a",
   "metadata": {},
   "outputs": [],
   "source": [
    "df.to_csv('dehli_rest.csv',index=False)"
   ]
  },
  {
   "cell_type": "code",
   "execution_count": null,
   "id": "fcbe39d6",
   "metadata": {},
   "outputs": [],
   "source": []
  }
 ],
 "metadata": {
  "kernelspec": {
   "display_name": "Python 3 (ipykernel)",
   "language": "python",
   "name": "python3"
  },
  "language_info": {
   "codemirror_mode": {
    "name": "ipython",
    "version": 3
   },
   "file_extension": ".py",
   "mimetype": "text/x-python",
   "name": "python",
   "nbconvert_exporter": "python",
   "pygments_lexer": "ipython3",
   "version": "3.9.7"
  }
 },
 "nbformat": 4,
 "nbformat_minor": 5
}
