{
 "cells": [
  {
   "cell_type": "code",
   "execution_count": 1,
   "id": "8aa87702",
   "metadata": {},
   "outputs": [],
   "source": [
    "import pandas as pd   #to create dataframe\n",
    "import requests       #to send the request to the URL\n",
    "from bs4 import BeautifulSoup #to get the content in the form of HTML\n",
    "import numpy as np  # to count the values (in our case)"
   ]
  },
  {
   "cell_type": "code",
   "execution_count": 2,
   "id": "c2fb3f03",
   "metadata": {},
   "outputs": [],
   "source": [
    "url = 'https://presidentofindia.nic.in/former-presidents.htm'\n",
    "response = requests.get(url)\n",
    "soup = BeautifulSoup(response.content, 'html.parser')"
   ]
  },
  {
   "cell_type": "code",
   "execution_count": 3,
   "id": "aa60cc44",
   "metadata": {},
   "outputs": [],
   "source": [
    "president_name=[]\n",
    "term_of_office = []"
   ]
  },
  {
   "cell_type": "code",
   "execution_count": 4,
   "id": "a0b63f98",
   "metadata": {},
   "outputs": [],
   "source": [
    "president_data = soup.findAll('div', attrs= {'class': 'presidentListing'})\n",
    "\n",
    "#calling one by one using for loop\n",
    "for store in president_data:\n",
    "    name = store.h3\n",
    "    president_name.append(name)\n",
    "    \n",
    "    year_of_join = store.h3.find('span', class_ = 'terms')\n",
    "    term_of_office.append(year_of_join)"
   ]
  },
  {
   "cell_type": "code",
   "execution_count": 5,
   "id": "ad385a3e",
   "metadata": {},
   "outputs": [],
   "source": [
    "data = pd.DataFrame({'name': president_name, 'term': term_of_office})"
   ]
  },
  {
   "cell_type": "code",
   "execution_count": 6,
   "id": "752dbb88",
   "metadata": {},
   "outputs": [
    {
     "data": {
      "text/html": [
       "<div>\n",
       "<style scoped>\n",
       "    .dataframe tbody tr th:only-of-type {\n",
       "        vertical-align: middle;\n",
       "    }\n",
       "\n",
       "    .dataframe tbody tr th {\n",
       "        vertical-align: top;\n",
       "    }\n",
       "\n",
       "    .dataframe thead th {\n",
       "        text-align: right;\n",
       "    }\n",
       "</style>\n",
       "<table border=\"1\" class=\"dataframe\">\n",
       "  <thead>\n",
       "    <tr style=\"text-align: right;\">\n",
       "      <th></th>\n",
       "      <th>name</th>\n",
       "      <th>term</th>\n",
       "    </tr>\n",
       "  </thead>\n",
       "  <tbody>\n",
       "    <tr>\n",
       "      <th>0</th>\n",
       "      <td>[Shri Pranab Mukherjee (1935-2020)]</td>\n",
       "      <td>None</td>\n",
       "    </tr>\n",
       "    <tr>\n",
       "      <th>1</th>\n",
       "      <td>[Smt Pratibha Devisingh Patil (birth - 1934)]</td>\n",
       "      <td>None</td>\n",
       "    </tr>\n",
       "    <tr>\n",
       "      <th>2</th>\n",
       "      <td>[DR. A.P.J. Abdul Kalam (1931-2015)]</td>\n",
       "      <td>None</td>\n",
       "    </tr>\n",
       "    <tr>\n",
       "      <th>3</th>\n",
       "      <td>[Shri K. R. Narayanan (1920 - 2005)]</td>\n",
       "      <td>None</td>\n",
       "    </tr>\n",
       "    <tr>\n",
       "      <th>4</th>\n",
       "      <td>[Dr Shankar Dayal Sharma (1918-1999)]</td>\n",
       "      <td>None</td>\n",
       "    </tr>\n",
       "    <tr>\n",
       "      <th>5</th>\n",
       "      <td>[Shri R Venkataraman (1910-2009)]</td>\n",
       "      <td>None</td>\n",
       "    </tr>\n",
       "    <tr>\n",
       "      <th>6</th>\n",
       "      <td>[Giani Zail Singh (1916-1994)]</td>\n",
       "      <td>None</td>\n",
       "    </tr>\n",
       "    <tr>\n",
       "      <th>7</th>\n",
       "      <td>[Shri Neelam Sanjiva Reddy (1913-1996)]</td>\n",
       "      <td>None</td>\n",
       "    </tr>\n",
       "    <tr>\n",
       "      <th>8</th>\n",
       "      <td>[Dr. Fakhruddin Ali Ahmed (1905-1977)]</td>\n",
       "      <td>None</td>\n",
       "    </tr>\n",
       "    <tr>\n",
       "      <th>9</th>\n",
       "      <td>[Shri Varahagiri Venkata Giri (1894-1980)]</td>\n",
       "      <td>None</td>\n",
       "    </tr>\n",
       "    <tr>\n",
       "      <th>10</th>\n",
       "      <td>[Dr. Zakir Husain (1897-1969)]</td>\n",
       "      <td>None</td>\n",
       "    </tr>\n",
       "    <tr>\n",
       "      <th>11</th>\n",
       "      <td>[Dr. Sarvepalli Radhakrishnan (1888-1975)]</td>\n",
       "      <td>None</td>\n",
       "    </tr>\n",
       "    <tr>\n",
       "      <th>12</th>\n",
       "      <td>[Dr. Rajendra Prasad (1884-1963) ]</td>\n",
       "      <td>None</td>\n",
       "    </tr>\n",
       "  </tbody>\n",
       "</table>\n",
       "</div>"
      ],
      "text/plain": [
       "                                             name  term\n",
       "0             [Shri Pranab Mukherjee (1935-2020)]  None\n",
       "1   [Smt Pratibha Devisingh Patil (birth - 1934)]  None\n",
       "2            [DR. A.P.J. Abdul Kalam (1931-2015)]  None\n",
       "3            [Shri K. R. Narayanan (1920 - 2005)]  None\n",
       "4           [Dr Shankar Dayal Sharma (1918-1999)]  None\n",
       "5               [Shri R Venkataraman (1910-2009)]  None\n",
       "6                  [Giani Zail Singh (1916-1994)]  None\n",
       "7         [Shri Neelam Sanjiva Reddy (1913-1996)]  None\n",
       "8          [Dr. Fakhruddin Ali Ahmed (1905-1977)]  None\n",
       "9      [Shri Varahagiri Venkata Giri (1894-1980)]  None\n",
       "10                 [Dr. Zakir Husain (1897-1969)]  None\n",
       "11     [Dr. Sarvepalli Radhakrishnan (1888-1975)]  None\n",
       "12             [Dr. Rajendra Prasad (1884-1963) ]  None"
      ]
     },
     "execution_count": 6,
     "metadata": {},
     "output_type": "execute_result"
    }
   ],
   "source": [
    "data.head(100)"
   ]
  },
  {
   "cell_type": "code",
   "execution_count": null,
   "id": "6805a2d5",
   "metadata": {},
   "outputs": [],
   "source": []
  }
 ],
 "metadata": {
  "kernelspec": {
   "display_name": "Python 3 (ipykernel)",
   "language": "python",
   "name": "python3"
  },
  "language_info": {
   "codemirror_mode": {
    "name": "ipython",
    "version": 3
   },
   "file_extension": ".py",
   "mimetype": "text/x-python",
   "name": "python",
   "nbconvert_exporter": "python",
   "pygments_lexer": "ipython3",
   "version": "3.9.7"
  }
 },
 "nbformat": 4,
 "nbformat_minor": 5
}
