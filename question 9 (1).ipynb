{
 "cells": [
  {
   "cell_type": "code",
   "execution_count": 57,
   "id": "e30e185c",
   "metadata": {},
   "outputs": [],
   "source": [
    "#Write a python program to scrape mentioned details from dineout.co.in :\n",
    "#i) Restaurant name\n",
    "#ii) Cuisine\n",
    "#iii) Location \n",
    "#iv) Ratings\n",
    "#v) Image URL"
   ]
  },
  {
   "cell_type": "code",
   "execution_count": 58,
   "id": "5be25d16",
   "metadata": {},
   "outputs": [],
   "source": [
    "import pandas as pd   #to create dataframe\n",
    "import requests       #to send the request to the URL\n",
    "from bs4 import BeautifulSoup #to get the content in the form of HTML\n",
    "import numpy as np  # to count the values (in our case)"
   ]
  },
  {
   "cell_type": "code",
   "execution_count": 59,
   "id": "be244fbc",
   "metadata": {},
   "outputs": [],
   "source": [
    "url = 'https://www.dineout.co.in/delhi-restaurants/welcome-back'\n",
    "response = requests.get(url)\n",
    "soup = BeautifulSoup(response.content, 'html.parser')"
   ]
  },
  {
   "cell_type": "code",
   "execution_count": 60,
   "id": "095e945a",
   "metadata": {},
   "outputs": [],
   "source": [
    "resturant_name = []\n",
    "cuisine = []\n",
    "location = []\n",
    "rating = []\n",
    "image=[]"
   ]
  },
  {
   "cell_type": "code",
   "execution_count": 61,
   "id": "e1d4b005",
   "metadata": {},
   "outputs": [],
   "source": [
    "resturant_data = soup.findAll('div', attrs= {'class': 'restnt-card resturant'})\n",
    "\n",
    "#calling one by one using for loop\n",
    "for store in resturant_data:\n",
    "    name = store.h3.a.text\n",
    "    resturant_name.append(name)\n",
    "    \n",
    "    rate = store.find('div', class_ = 'restnt-rating rating-4').text.replace('\\n', '')\n",
    "    rating.append(rate)\n",
    "    \n",
    "    location_name = store.find('div', class_ = 'restnt-loc ellipsis').text.replace('\\n', '')\n",
    "    locaion.append(location_name)"
   ]
  },
  {
   "cell_type": "code",
   "execution_count": 62,
   "id": "4064f7fa",
   "metadata": {},
   "outputs": [],
   "source": [
    "resturant_DF = pd.DataFrame({'Name of resturant': resturant_name, 'location_of_resturant': location, 'resturant Rating': rating})"
   ]
  },
  {
   "cell_type": "code",
   "execution_count": 64,
   "id": "7f1db2af",
   "metadata": {},
   "outputs": [
    {
     "data": {
      "text/html": [
       "<div>\n",
       "<style scoped>\n",
       "    .dataframe tbody tr th:only-of-type {\n",
       "        vertical-align: middle;\n",
       "    }\n",
       "\n",
       "    .dataframe tbody tr th {\n",
       "        vertical-align: top;\n",
       "    }\n",
       "\n",
       "    .dataframe thead th {\n",
       "        text-align: right;\n",
       "    }\n",
       "</style>\n",
       "<table border=\"1\" class=\"dataframe\">\n",
       "  <thead>\n",
       "    <tr style=\"text-align: right;\">\n",
       "      <th></th>\n",
       "      <th>Name of resturant</th>\n",
       "      <th>location_of_resturant</th>\n",
       "      <th>resturant Rating</th>\n",
       "    </tr>\n",
       "  </thead>\n",
       "  <tbody>\n",
       "  </tbody>\n",
       "</table>\n",
       "</div>"
      ],
      "text/plain": [
       "Empty DataFrame\n",
       "Columns: [Name of resturant, location_of_resturant, resturant Rating]\n",
       "Index: []"
      ]
     },
     "execution_count": 64,
     "metadata": {},
     "output_type": "execute_result"
    }
   ],
   "source": [
    "resturant_DF.head()"
   ]
  },
  {
   "cell_type": "code",
   "execution_count": null,
   "id": "023f0172",
   "metadata": {},
   "outputs": [],
   "source": []
  },
  {
   "cell_type": "code",
   "execution_count": null,
   "id": "b8ffac23",
   "metadata": {},
   "outputs": [],
   "source": []
  },
  {
   "cell_type": "code",
   "execution_count": null,
   "id": "19ca879d",
   "metadata": {},
   "outputs": [],
   "source": []
  },
  {
   "cell_type": "code",
   "execution_count": null,
   "id": "ba60cee4",
   "metadata": {},
   "outputs": [],
   "source": []
  },
  {
   "cell_type": "code",
   "execution_count": null,
   "id": "b3bfad3c",
   "metadata": {},
   "outputs": [],
   "source": []
  },
  {
   "cell_type": "code",
   "execution_count": null,
   "id": "a64f9959",
   "metadata": {},
   "outputs": [],
   "source": []
  },
  {
   "cell_type": "code",
   "execution_count": null,
   "id": "527b3681",
   "metadata": {},
   "outputs": [],
   "source": []
  },
  {
   "cell_type": "code",
   "execution_count": null,
   "id": "a56c36ee",
   "metadata": {},
   "outputs": [],
   "source": []
  },
  {
   "cell_type": "code",
   "execution_count": null,
   "id": "f26cf92a",
   "metadata": {},
   "outputs": [],
   "source": []
  },
  {
   "cell_type": "code",
   "execution_count": null,
   "id": "257d7388",
   "metadata": {},
   "outputs": [],
   "source": []
  },
  {
   "cell_type": "code",
   "execution_count": null,
   "id": "2ca79ec6",
   "metadata": {},
   "outputs": [],
   "source": []
  },
  {
   "cell_type": "code",
   "execution_count": null,
   "id": "6453a98e",
   "metadata": {},
   "outputs": [],
   "source": []
  },
  {
   "cell_type": "code",
   "execution_count": null,
   "id": "b356d862",
   "metadata": {},
   "outputs": [],
   "source": []
  }
 ],
 "metadata": {
  "kernelspec": {
   "display_name": "Python 3 (ipykernel)",
   "language": "python",
   "name": "python3"
  },
  "language_info": {
   "codemirror_mode": {
    "name": "ipython",
    "version": 3
   },
   "file_extension": ".py",
   "mimetype": "text/x-python",
   "name": "python",
   "nbconvert_exporter": "python",
   "pygments_lexer": "ipython3",
   "version": "3.9.7"
  }
 },
 "nbformat": 4,
 "nbformat_minor": 5
}
